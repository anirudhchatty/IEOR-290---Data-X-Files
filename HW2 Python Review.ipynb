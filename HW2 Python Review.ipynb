{
 "cells": [
  {
   "cell_type": "markdown",
   "metadata": {},
   "source": [
    "# Homework 2\n"
   ]
  },
  {
   "cell_type": "markdown",
   "metadata": {},
   "source": [
    "In this homework you will complete a couple of simple exercises in order to show your understanding with Python. If these exercises are challenging or new to you, you may want to reconsider taking the class and/or brush up on your Python skills. For the following exercises you are not allowed to use any Python packages (i.e. Numpy, Pandas, etc.)."
   ]
  },
  {
   "cell_type": "markdown",
   "metadata": {},
   "source": [
    "### NAME : Anirudh Chatty\n",
    "### ID : 3034339104"
   ]
  },
  {
   "cell_type": "markdown",
   "metadata": {},
   "source": [
    "### Mandatory : Please print the output of each question below your code"
   ]
  },
  {
   "cell_type": "markdown",
   "metadata": {},
   "source": [
    "## Lists"
   ]
  },
  {
   "cell_type": "markdown",
   "metadata": {},
   "source": [
    "1.1 Create an empty Python list called 'a' in the cell below."
   ]
  },
  {
   "cell_type": "code",
   "execution_count": 13,
   "metadata": {},
   "outputs": [],
   "source": [
    "#your code here\n",
    "\n",
    "a = []"
   ]
  },
  {
   "cell_type": "markdown",
   "metadata": {},
   "source": [
    "1.2 Store all values between 1-100 (inclusive) with increments of 3 (i.e. 1, 4, 7...) in 'a'."
   ]
  },
  {
   "cell_type": "code",
   "execution_count": 14,
   "metadata": {},
   "outputs": [
    {
     "name": "stdout",
     "output_type": "stream",
     "text": [
      "[1, 4, 7, 10, 13, 16, 19, 22, 25, 28, 31, 34, 37, 40, 43, 46, 49, 52, 55, 58, 61, 64, 67, 70, 73, 76, 79, 82, 85, 88, 91, 94, 97, 100]\n"
     ]
    }
   ],
   "source": [
    "#your code here\n",
    "for i in range (1,101,3):\n",
    "    a.append(i)\n",
    "print(a)"
   ]
  },
  {
   "cell_type": "markdown",
   "metadata": {},
   "source": [
    "1.3 Create another list called 'a2' with numbers from 2-46 (inclusive) with increments of 0.5 (i.e. 2, 2.5, 3...)."
   ]
  },
  {
   "cell_type": "code",
   "execution_count": 15,
   "metadata": {},
   "outputs": [
    {
     "name": "stdout",
     "output_type": "stream",
     "text": [
      "[2.0, 2.5, 3.0, 3.5, 4.0, 4.5, 5.0, 5.5, 6.0, 6.5, 7.0, 7.5, 8.0, 8.5, 9.0, 9.5, 10.0, 10.5, 11.0, 11.5, 12.0, 12.5, 13.0, 13.5, 14.0, 14.5, 15.0, 15.5, 16.0, 16.5, 17.0, 17.5, 18.0, 18.5, 19.0, 19.5, 20.0, 20.5, 21.0, 21.5, 22.0, 22.5, 23.0, 23.5, 24.0, 24.5, 25.0, 25.5, 26.0, 26.5, 27.0, 27.5, 28.0, 28.5, 29.0, 29.5, 30.0, 30.5, 31.0, 31.5, 32.0, 32.5, 33.0, 33.5, 34.0, 34.5, 35.0, 35.5, 36.0, 36.5, 37.0, 37.5, 38.0, 38.5, 39.0, 39.5, 40.0, 40.5, 41.0, 41.5, 42.0, 42.5, 43.0, 43.5, 44.0, 44.5, 45.0, 45.5, 46.0]\n"
     ]
    }
   ],
   "source": [
    "#your code here\n",
    "a2 = []\n",
    "for i in range(20,465,5):\n",
    "    a2.append(i/10)\n",
    "print(a2)    \n"
   ]
  },
  {
   "cell_type": "markdown",
   "metadata": {},
   "source": [
    "1.4 Double every even integer element from list 'a'. Store the results back in 'a'."
   ]
  },
  {
   "cell_type": "code",
   "execution_count": 16,
   "metadata": {},
   "outputs": [
    {
     "name": "stdout",
     "output_type": "stream",
     "text": [
      "[1, 8, 7, 20, 13, 32, 19, 44, 25, 56, 31, 68, 37, 80, 43, 92, 49, 104, 55, 116, 61, 128, 67, 140, 73, 152, 79, 164, 85, 176, 91, 188, 97, 200]\n"
     ]
    }
   ],
   "source": [
    "#your code here\n",
    "for i in range (1,len(a),2):\n",
    "    a[i] = 2*a[i]\n",
    "print(a)\n"
   ]
  },
  {
   "cell_type": "markdown",
   "metadata": {},
   "source": [
    "1.5 Add all numbers in 'a' except for the 2nd and 21st elements (the 2nd element here means the element at list index 1 and similarly for the 21st element)."
   ]
  },
  {
   "cell_type": "code",
   "execution_count": 17,
   "metadata": {},
   "outputs": [
    {
     "name": "stdout",
     "output_type": "stream",
     "text": [
      "2532\n"
     ]
    }
   ],
   "source": [
    "#your code here\n",
    "z = [0]*len(a)\n",
    "for i in range(len(a)):\n",
    "    z[i]=a[i]\n",
    "del z[1]  \n",
    "del z[19] \n",
    "sum = 0\n",
    "for i in range(len(z)):\n",
    "    sum = sum + z[i]\n",
    "print (sum)"
   ]
  },
  {
   "cell_type": "markdown",
   "metadata": {},
   "source": [
    "1.6 Calculate the mean of 'a'."
   ]
  },
  {
   "cell_type": "code",
   "execution_count": 18,
   "metadata": {},
   "outputs": [
    {
     "name": "stdout",
     "output_type": "stream",
     "text": [
      "76.5\n"
     ]
    }
   ],
   "source": [
    "#your code here\n",
    "total = 0\n",
    "for i in range (len(a)):\n",
    "    total = total + a[i]\n",
    "    \n",
    "mean = total/len(a)\n",
    "print(mean)"
   ]
  },
  {
   "cell_type": "code",
   "execution_count": 19,
   "metadata": {},
   "outputs": [],
   "source": [
    "# 1.7 Delete all elements greater than the mean value from list 'a'"
   ]
  },
  {
   "cell_type": "code",
   "execution_count": 23,
   "metadata": {},
   "outputs": [
    {
     "name": "stdout",
     "output_type": "stream",
     "text": [
      "[1, 8, 7, 20, 13, 32, 19, 44, 25, 56, 31, 68, 37, 43, 49, 55, 61, 67, 73]\n"
     ]
    }
   ],
   "source": [
    "#your code here\n",
    "for i in range(len(a)):\n",
    "    if a[i]>mean:\n",
    "        del a[i]\n",
    "        i = i-1\n",
    "print (a)\n"
   ]
  },
  {
   "cell_type": "markdown",
   "metadata": {},
   "source": [
    "## Strings"
   ]
  },
  {
   "cell_type": "markdown",
   "metadata": {},
   "source": [
    "2.1 Create an empty list called 'b'."
   ]
  },
  {
   "cell_type": "code",
   "execution_count": 24,
   "metadata": {},
   "outputs": [],
   "source": [
    "#your code here\n",
    "b = [0]*18"
   ]
  },
  {
   "cell_type": "markdown",
   "metadata": {},
   "source": [
    "2.2 Store the words in the sentence below as elements into the list 'b'.  \n",
    "\n",
    "'I am so excited about Data-X. It is important to be able to work with data.'"
   ]
  },
  {
   "cell_type": "code",
   "execution_count": 25,
   "metadata": {},
   "outputs": [
    {
     "name": "stdout",
     "output_type": "stream",
     "text": [
      "['I', 'am', 'so', 'excited', 'about', 'Data-x', '.', 'It', 'is', 'important', 'to', 'be', 'able', 'to', 'work', 'with', 'data', '.']\n"
     ]
    }
   ],
   "source": [
    "#your code here\n",
    "b[0]= \"I\"\n",
    "b[1]= \"am\"\n",
    "b[2]= \"so\"\n",
    "b[3]= \"excited\"\n",
    "b[4]= \"about\"\n",
    "b[5]= \"Data-x\"\n",
    "b[6]= \".\"\n",
    "b[7]= \"It\"\n",
    "b[8]= \"is\"\n",
    "b[9]= \"important\"\n",
    "b[10]= \"to\"\n",
    "b[11]= \"be\"\n",
    "b[12]= \"able\"\n",
    "b[13]= \"to\"\n",
    "b[14]= \"work\"\n",
    "b[15]= \"with\"\n",
    "b[16]= \"data\"\n",
    "b[17]= \".\"\n",
    "print (b)"
   ]
  },
  {
   "cell_type": "markdown",
   "metadata": {},
   "source": [
    "2.3 Return the count of the occurences of the lower-case letter 'e' in the list 'b'."
   ]
  },
  {
   "cell_type": "code",
   "execution_count": 26,
   "metadata": {},
   "outputs": [
    {
     "name": "stdout",
     "output_type": "stream",
     "text": [
      "4\n"
     ]
    }
   ],
   "source": [
    "#your code here\n",
    "count = 0\n",
    "for i in range(len(b)):\n",
    "    for j in b[i]:\n",
    "        if j==\"e\":\n",
    "            count = count+1\n",
    "print(count)"
   ]
  },
  {
   "cell_type": "markdown",
   "metadata": {},
   "source": [
    "2.4 Replace every lower- or upper-case letter 'i' in the list b with a '1'."
   ]
  },
  {
   "cell_type": "code",
   "execution_count": 27,
   "metadata": {},
   "outputs": [
    {
     "name": "stdout",
     "output_type": "stream",
     "text": [
      "['1', 'am', 'so', 'exc1ted', 'about', 'Data-x', '.', '1t', '1s', '1mportant', 'to', 'be', 'able', 'to', 'work', 'w1th', 'data', '.']\n"
     ]
    }
   ],
   "source": [
    "#your code here\n",
    "x = [0]*len(b)\n",
    "for i in range(len(b)):\n",
    "    x[i] = b[i]\n",
    "for j in range(len(b)):\n",
    "    x[j] = x[j].replace(\"i\",\"1\")\n",
    "    x[j] = x[j].replace(\"I\",\"1\")\n",
    "print(x)\n"
   ]
  },
  {
   "cell_type": "markdown",
   "metadata": {},
   "source": [
    "2.5 Append the string \"This is the end of the first HW.\" to the list 'b'."
   ]
  },
  {
   "cell_type": "code",
   "execution_count": 28,
   "metadata": {},
   "outputs": [
    {
     "name": "stdout",
     "output_type": "stream",
     "text": [
      "['I', 'am', 'so', 'excited', 'about', 'Data-x', '.', 'It', 'is', 'important', 'to', 'be', 'able', 'to', 'work', 'with', 'data', '.', 'this is the end of the first HW.']\n"
     ]
    }
   ],
   "source": [
    "#your code here\n",
    "b.append(\"this is the end of the first HW.\")\n",
    "print(b)"
   ]
  },
  {
   "cell_type": "markdown",
   "metadata": {},
   "source": [
    "2.6 Print 'b' as ONE string backwards (starting with \"WH tsrif...\")."
   ]
  },
  {
   "cell_type": "code",
   "execution_count": 29,
   "metadata": {},
   "outputs": [
    {
     "name": "stdout",
     "output_type": "stream",
     "text": [
      "['this is the end of the first HW.', '.', 'data', 'with', 'work', 'to', 'able', 'be', 'to', 'important', 'is', 'It', '.', 'Data-x', 'about', 'excited', 'so', 'am', 'I']\n"
     ]
    }
   ],
   "source": [
    "#your code here\n",
    "\n",
    "q = [0]*len(b)\n",
    "\n",
    "def reversed_string(a_string):\n",
    "    return a_string[::-1]\n",
    "\n",
    "for i in range(len(b)):\n",
    "    q = b[::-1]\n",
    "    for j in b[i]:\n",
    "        reversed_string(q[i])\n",
    "\n",
    "print(q)\n"
   ]
  },
  {
   "cell_type": "markdown",
   "metadata": {},
   "source": [
    "## Dictionaries"
   ]
  },
  {
   "cell_type": "markdown",
   "metadata": {
    "collapsed": true
   },
   "source": [
    "3.1 Put the following in a dictionary called 'codes':\n",
    "\n",
    "Keys: 1001, 1002, 1003, 1004, 1005   \n",
    "Values: 'Alpha', 'Beta', 'Gamma', 'Delta', 'Tau'\n",
    "\n",
    "then traverse the dictionary by its keys and change every value to be all lower case."
   ]
  },
  {
   "cell_type": "code",
   "execution_count": 30,
   "metadata": {},
   "outputs": [
    {
     "name": "stdout",
     "output_type": "stream",
     "text": [
      "alpha\n",
      "beta\n",
      "gamma\n",
      "delta\n",
      "tau\n"
     ]
    }
   ],
   "source": [
    "#your code here\n",
    "codes = {1001 : \"Alpha\", 1002 : \"Beta\" , 1003 : \"Gamma\" , 1004 : \"Delta\", 1005 : \"Tau\"}\n",
    "for x in codes:\n",
    "    codes[x] = codes[x].lower()\n",
    "    print(codes[x])\n"
   ]
  },
  {
   "cell_type": "markdown",
   "metadata": {},
   "source": [
    "3.2 Delete 'alpha' from the dictionary."
   ]
  },
  {
   "cell_type": "code",
   "execution_count": 31,
   "metadata": {},
   "outputs": [
    {
     "name": "stdout",
     "output_type": "stream",
     "text": [
      "{1002: 'beta', 1003: 'gamma', 1004: 'delta', 1005: 'tau'}\n"
     ]
    }
   ],
   "source": [
    "#your code here\n",
    "del codes [1001]\n",
    "print(codes)"
   ]
  },
  {
   "cell_type": "markdown",
   "metadata": {},
   "source": [
    "## Sets"
   ]
  },
  {
   "cell_type": "markdown",
   "metadata": {},
   "source": [
    "4.1 Create a set called 'c' with the all the odd numbers less than 10."
   ]
  },
  {
   "cell_type": "code",
   "execution_count": 32,
   "metadata": {},
   "outputs": [
    {
     "name": "stdout",
     "output_type": "stream",
     "text": [
      "{1, 3, 5, 7, 9}\n"
     ]
    }
   ],
   "source": [
    "#your code here\n",
    "c = {1,3,5,7,9}\n",
    "print(c)\n"
   ]
  },
  {
   "cell_type": "markdown",
   "metadata": {},
   "source": [
    "4.2 Create another set called 'd' with elements 2, 5, 10, 30."
   ]
  },
  {
   "cell_type": "code",
   "execution_count": 33,
   "metadata": {},
   "outputs": [
    {
     "name": "stdout",
     "output_type": "stream",
     "text": [
      "{2, 10, 5, 30}\n"
     ]
    }
   ],
   "source": [
    "#your code here\n",
    "d = {2,5,10,30}\n",
    "print(d)"
   ]
  },
  {
   "cell_type": "markdown",
   "metadata": {},
   "source": [
    "4.3 Find the union between sets 'c' and 'd' and store this in a new set called 'e'."
   ]
  },
  {
   "cell_type": "code",
   "execution_count": 34,
   "metadata": {},
   "outputs": [
    {
     "data": {
      "text/plain": [
       "{1, 2, 3, 5, 7, 9, 10, 30}"
      ]
     },
     "execution_count": 34,
     "metadata": {},
     "output_type": "execute_result"
    }
   ],
   "source": [
    "#your code here\n",
    "c.union(d)"
   ]
  },
  {
   "cell_type": "markdown",
   "metadata": {},
   "source": [
    "4.4 Find the intersection between sets 'c' and 'd'."
   ]
  },
  {
   "cell_type": "code",
   "execution_count": 35,
   "metadata": {},
   "outputs": [
    {
     "data": {
      "text/plain": [
       "{5}"
      ]
     },
     "execution_count": 35,
     "metadata": {},
     "output_type": "execute_result"
    }
   ],
   "source": [
    "#your code here\n",
    "c.intersection(d)"
   ]
  },
  {
   "cell_type": "code",
   "execution_count": null,
   "metadata": {},
   "outputs": [],
   "source": [
    "\n"
   ]
  },
  {
   "cell_type": "code",
   "execution_count": null,
   "metadata": {},
   "outputs": [],
   "source": []
  }
 ],
 "metadata": {
  "anaconda-cloud": {},
  "kernelspec": {
   "display_name": "Python 3",
   "language": "python",
   "name": "python3"
  },
  "language_info": {
   "codemirror_mode": {
    "name": "ipython",
    "version": 3
   },
   "file_extension": ".py",
   "mimetype": "text/x-python",
   "name": "python",
   "nbconvert_exporter": "python",
   "pygments_lexer": "ipython3",
   "version": "3.6.7"
  }
 },
 "nbformat": 4,
 "nbformat_minor": 1
}
